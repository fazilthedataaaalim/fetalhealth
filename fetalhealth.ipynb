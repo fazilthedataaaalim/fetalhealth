{
  "nbformat": 4,
  "nbformat_minor": 0,
  "metadata": {
    "colab": {
      "provenance": []
    },
    "kernelspec": {
      "name": "python3",
      "display_name": "Python 3"
    },
    "language_info": {
      "name": "python"
    }
  },
  "cells": [
    {
      "cell_type": "code",
      "execution_count": 71,
      "metadata": {
        "id": "YQd-22erFlC3"
      },
      "outputs": [],
      "source": [
        "import pandas as pd\n",
        "import numpy as np\n",
        "df=pd.read_csv('/content/fetal_health.csv')"
      ]
    },
    {
      "cell_type": "code",
      "source": [
        "x=df.iloc[:,:-1]\n",
        "y=df.iloc[:,-1]"
      ],
      "metadata": {
        "id": "Qews_vxGGU90"
      },
      "execution_count": 72,
      "outputs": []
    },
    {
      "cell_type": "code",
      "source": [
        "from sklearn.model_selection import train_test_split\n",
        "x_train,x_test,y_train,y_test=train_test_split(x,y,test_size=.25,random_state=42)"
      ],
      "metadata": {
        "id": "Mk4cGYGGGhK5"
      },
      "execution_count": 73,
      "outputs": []
    },
    {
      "cell_type": "code",
      "source": [
        "from sklearn.preprocessing import StandardScaler\n",
        "scaler=StandardScaler()\n",
        "scaler.fit(x_train)\n",
        "x_train=scaler.transform(x_train)\n",
        "x_test=scaler.transform(x_test)"
      ],
      "metadata": {
        "id": "OIfAMr5VHlgL"
      },
      "execution_count": 74,
      "outputs": []
    },
    {
      "cell_type": "code",
      "source": [
        "from sklearn.neighbors import KNeighborsClassifier\n",
        "classifier=KNeighborsClassifier(n_neighbors=5)\n",
        "classifier.fit(x_train,y_train)\n",
        "y_pred=classifier.predict(x_test)"
      ],
      "metadata": {
        "id": "OtdpVr6OJSXK"
      },
      "execution_count": 75,
      "outputs": []
    },
    {
      "cell_type": "code",
      "source": [
        "from sklearn.metrics import classification_report,accuracy_score,confusion_matrix,ConfusionMatrixDisplay\n",
        "score=accuracy_score(y_pred,y_test)\n",
        "score\n",
        "result=confusion_matrix(y_pred,y_test)\n",
        "result\n",
        "label=['normal','suspect','pathological']\n",
        "cmd=ConfusionMatrixDisplay(result,display_labels=label)\n",
        "cmd.plot()"
      ],
      "metadata": {
        "colab": {
          "base_uri": "https://localhost:8080/",
          "height": 298
        },
        "id": "JkXT7EWmNBFo",
        "outputId": "ac64b1d7-3e71-45c0-9874-322164799535"
      },
      "execution_count": 83,
      "outputs": [
        {
          "output_type": "execute_result",
          "data": {
            "text/plain": [
              "<sklearn.metrics._plot.confusion_matrix.ConfusionMatrixDisplay at 0x7f3f67833a90>"
            ]
          },
          "metadata": {},
          "execution_count": 83
        },
        {
          "output_type": "display_data",
          "data": {
            "text/plain": [
              "<Figure size 432x288 with 2 Axes>"
            ],
            "image/png": "[encoded data removed]"
          },
          "metadata": {
            "needs_background": "light"
          }
        }
      ]
    },
    {
      "cell_type": "code",
      "source": [
        "#naive\n",
        "from sklearn.naive_bayes import GaussianNB\n",
        "classifier1=GaussianNB()\n",
        "classifier1.fit(x_train,y_train)\n",
        "y_pred1=classifier1.predict(x_test)"
      ],
      "metadata": {
        "id": "bFlpoHc4OFkH"
      },
      "execution_count": 77,
      "outputs": []
    },
    {
      "cell_type": "code",
      "source": [
        "score1=accuracy_score(y_pred1,y_test)\n",
        "score1\n",
        "result1=confusion_matrix(y_pred1,y_test)\n",
        "cmd1=ConfusionMatrixDisplay(result1,display_labels=label)\n",
        "cmd1.plot()"
      ],
      "metadata": {
        "colab": {
          "base_uri": "https://localhost:8080/",
          "height": 296
        },
        "id": "KbVsXnMyP067",
        "outputId": "efae17a2-b40d-4223-a40e-50907ea1038f"
      },
      "execution_count": 86,
      "outputs": [
        {
          "output_type": "execute_result",
          "data": {
            "text/plain": [
              "<sklearn.metrics._plot.confusion_matrix.ConfusionMatrixDisplay at 0x7f3f676c7670>"
            ]
          },
          "metadata": {},
          "execution_count": 86
        },
        {
          "output_type": "display_data",
          "data": {
            "text/plain": [
              "<Figure size 432x288 with 2 Axes>"
            ],
            "image/png": "[encoded data removed]"
          },
          "metadata": {
            "needs_background": "light"
          }
        }
      ]
    },
    {
      "cell_type": "code",
      "source": [
        "from sklearn.svm import SVC\n",
        "classifier2=SVC()\n",
        "classifier2.fit(x_train,y_train)\n",
        "y_pred2=classifier2.predict(x_test)\n"
      ],
      "metadata": {
        "id": "F-ELFIUFQTMv"
      },
      "execution_count": 79,
      "outputs": []
    },
    {
      "cell_type": "code",
      "source": [
        "score2=accuracy_score(y_pred2,y_test)\n",
        "score2\n",
        "result2=confusion_matrix(y_pred2,y_test)\n",
        "cmd2=ConfusionMatrixDisplay(result2,display_labels=label)\n",
        "cmd2.plot()"
      ],
      "metadata": {
        "colab": {
          "base_uri": "https://localhost:8080/",
          "height": 296
        },
        "id": "zXmRJ8wpR2pl",
        "outputId": "1a9b3914-b753-4015-b2c1-a071dae04f80"
      },
      "execution_count": 88,
      "outputs": [
        {
          "output_type": "execute_result",
          "data": {
            "text/plain": [
              "<sklearn.metrics._plot.confusion_matrix.ConfusionMatrixDisplay at 0x7f3f670c6f10>"
            ]
          },
          "metadata": {},
          "execution_count": 88
        },
        {
          "output_type": "display_data",
          "data": {
            "text/plain": [
              "<Figure size 432x288 with 2 Axes>"
            ],
            "image/png": "[encoded data removed]"
          },
          "metadata": {
            "needs_background": "light"
          }
        }
      ]
    }
  ]
}